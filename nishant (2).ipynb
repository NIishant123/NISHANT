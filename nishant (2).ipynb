{
 "cells": [
  {
   "cell_type": "code",
   "execution_count": 4,
   "id": "1752cebc",
   "metadata": {},
   "outputs": [
    {
     "name": "stdout",
     "output_type": "stream",
     "text": [
      "<class 'int'>\n",
      "<class 'float'>\n",
      "<class 'complex'>\n"
     ]
    }
   ],
   "source": [
    "x=2 #int\n",
    "y=5.65#float\n",
    "z=10j #complex\n",
    "print(type(x))\n",
    "print(type(y))\n",
    "print(type(z))"
   ]
  },
  {
   "cell_type": "code",
   "execution_count": 6,
   "id": "f32ea614",
   "metadata": {},
   "outputs": [
    {
     "name": "stdout",
     "output_type": "stream",
     "text": [
      "<class 'int'>\n",
      "<class 'int'>\n",
      "<class 'int'>\n"
     ]
    }
   ],
   "source": [
    "x=2030 #int\n",
    "y=10 #float\n",
    "z=112 #complex\n",
    "print(type(x))\n",
    "print(type(y))\n",
    "print(type(z))"
   ]
  },
  {
   "cell_type": "code",
   "execution_count": 7,
   "id": "5c42b2a1",
   "metadata": {},
   "outputs": [
    {
     "name": "stdout",
     "output_type": "stream",
     "text": [
      "<class 'int'>\n",
      "<class 'complex'>\n",
      "<class 'float'>\n"
     ]
    }
   ],
   "source": [
    "x=205+300\n",
    "y=2000+54j\n",
    "z=30+456.5653\n",
    "print(type(x))\n",
    "print(type(y))\n",
    "print(type(z))\n"
   ]
  },
  {
   "cell_type": "code",
   "execution_count": 13,
   "id": "000ddd8f",
   "metadata": {},
   "outputs": [
    {
     "name": "stdout",
     "output_type": "stream",
     "text": [
      "24.0\n",
      "25j\n",
      "2\n"
     ]
    }
   ],
   "source": [
    "x=24 #int\n",
    "y=25j #complex\n",
    "z=2.35 #float\n",
    "a=float(x)\n",
    "b=complex(y)\n",
    "c=int(z)\n",
    "print(a)\n",
    "print(b)\n",
    "print(c)"
   ]
  },
  {
   "cell_type": "code",
   "execution_count": 14,
   "id": "8b0fb64e",
   "metadata": {},
   "outputs": [
    {
     "name": "stdout",
     "output_type": "stream",
     "text": [
      "56\n"
     ]
    }
   ],
   "source": [
    "a=4\n",
    "b=52\n",
    "print(a+b)"
   ]
  },
  {
   "cell_type": "code",
   "execution_count": 15,
   "id": "869e0197",
   "metadata": {},
   "outputs": [
    {
     "name": "stdout",
     "output_type": "stream",
     "text": [
      "75\n"
     ]
    }
   ],
   "source": [
    "a=52\n",
    "b=23\n",
    "c=a+b\n",
    "print(c)"
   ]
  },
  {
   "cell_type": "code",
   "execution_count": 16,
   "id": "7bb13af9",
   "metadata": {},
   "outputs": [
    {
     "name": "stdout",
     "output_type": "stream",
     "text": [
      "456\n"
     ]
    }
   ],
   "source": [
    "x=456\n",
    "y=556\n",
    "z=x%y\n",
    "print(z)"
   ]
  },
  {
   "cell_type": "code",
   "execution_count": 19,
   "id": "38304a9f",
   "metadata": {},
   "outputs": [
    {
     "name": "stdout",
     "output_type": "stream",
     "text": [
      "b is greater than a\n"
     ]
    }
   ],
   "source": [
    "a=1256\n",
    "b=4552\n",
    "if b>a:\n",
    "    print(\"b is greater than a\")\n",
    "else:\n",
    "    print(\"b is less than a\")\n"
   ]
  },
  {
   "cell_type": "code",
   "execution_count": 22,
   "id": "08278e2c",
   "metadata": {},
   "outputs": [
    {
     "name": "stdout",
     "output_type": "stream",
     "text": [
      "n\n",
      "shan\n",
      "nishant\n"
     ]
    }
   ],
   "source": [
    "string=\"nishant\"\n",
    "print(string[0])\n",
    "print(string[2:6])\n",
    "print(string[0:7])"
   ]
  },
  {
   "cell_type": "code",
   "execution_count": 32,
   "id": "fe08a8be",
   "metadata": {},
   "outputs": [
    {
     "name": "stdout",
     "output_type": "stream",
     "text": [
      "[12, 32, 'ada', 45]\n",
      "12\n",
      "[45]\n"
     ]
    }
   ],
   "source": [
    "a=[12,32,'ada',45]\n",
    "print(a)\n",
    "print(a[0])\n",
    "print(a[3:4])"
   ]
  },
  {
   "cell_type": "code",
   "execution_count": 34,
   "id": "1b61e245",
   "metadata": {},
   "outputs": [
    {
     "name": "stdout",
     "output_type": "stream",
     "text": [
      "(28, 'nishant', 546, 'rathod')\n",
      "546\n",
      "('rathod',)\n"
     ]
    }
   ],
   "source": [
    "tuble=(28,'nishant',546,'rathod')\n",
    "print(tuble)\n",
    "print(tuble[2])\n",
    "print(tuble[3:4])"
   ]
  },
  {
   "cell_type": "code",
   "execution_count": 55,
   "id": "975c9516",
   "metadata": {},
   "outputs": [],
   "source": [
    "mylist=[10,20,30];"
   ]
  },
  {
   "cell_type": "code",
   "execution_count": 56,
   "id": "0b679b76",
   "metadata": {},
   "outputs": [],
   "source": [
    "mylist[0]=999;"
   ]
  },
  {
   "cell_type": "code",
   "execution_count": 57,
   "id": "22b1a9f6",
   "metadata": {},
   "outputs": [
    {
     "name": "stdout",
     "output_type": "stream",
     "text": [
      "[999, 20, 30]\n"
     ]
    }
   ],
   "source": [
    "print(mylist)"
   ]
  },
  {
   "cell_type": "code",
   "execution_count": 23,
   "id": "ac0b0a33",
   "metadata": {},
   "outputs": [],
   "source": [
    "a=2500\n",
    "b=300\n",
    "c=(a+b)"
   ]
  },
  {
   "cell_type": "code",
   "execution_count": 26,
   "id": "1a5cdc61",
   "metadata": {},
   "outputs": [],
   "source": [
    "a=2500\n",
    "b=300\n",
    "d=(a-b)"
   ]
  },
  {
   "cell_type": "code",
   "execution_count": 27,
   "id": "125502a9",
   "metadata": {},
   "outputs": [],
   "source": [
    "a=2500\n",
    "b=300\n",
    "e=a*b"
   ]
  },
  {
   "cell_type": "code",
   "execution_count": 28,
   "id": "42d04c5e",
   "metadata": {},
   "outputs": [],
   "source": [
    "a=2500\n",
    "b=300\n",
    "f=a%b"
   ]
  },
  {
   "cell_type": "code",
   "execution_count": 29,
   "id": "d6b07972",
   "metadata": {},
   "outputs": [],
   "source": [
    "a=2500\n",
    "b=300\n",
    "g=a/b"
   ]
  },
  {
   "cell_type": "code",
   "execution_count": 30,
   "id": "00fed8f9",
   "metadata": {},
   "outputs": [],
   "source": [
    "a=2500\n",
    "b=300\n",
    "h=a**b"
   ]
  },
  {
   "cell_type": "code",
   "execution_count": 31,
   "id": "05b3d924",
   "metadata": {},
   "outputs": [],
   "source": [
    "a=2500\n",
    "b=300\n",
    "k=a//b"
   ]
  },
  {
   "cell_type": "code",
   "execution_count": 24,
   "id": "0b0aca52",
   "metadata": {},
   "outputs": [
    {
     "name": "stdout",
     "output_type": "stream",
     "text": [
      "2800\n"
     ]
    }
   ],
   "source": [
    "print(c)"
   ]
  },
  {
   "cell_type": "code",
   "execution_count": 32,
   "id": "d76f29a9",
   "metadata": {},
   "outputs": [
    {
     "name": "stdout",
     "output_type": "stream",
     "text": [
      "2200\n"
     ]
    }
   ],
   "source": [
    "print(d)"
   ]
  },
  {
   "cell_type": "code",
   "execution_count": 33,
   "id": "91a50788",
   "metadata": {},
   "outputs": [
    {
     "name": "stdout",
     "output_type": "stream",
     "text": [
      "750000\n"
     ]
    }
   ],
   "source": [
    "print(e)"
   ]
  },
  {
   "cell_type": "code",
   "execution_count": 34,
   "id": "ddc19d4e",
   "metadata": {},
   "outputs": [
    {
     "name": "stdout",
     "output_type": "stream",
     "text": [
      "100\n"
     ]
    }
   ],
   "source": [
    "print(f)"
   ]
  },
  {
   "cell_type": "code",
   "execution_count": 35,
   "id": "9ec0de1b",
   "metadata": {},
   "outputs": [
    {
     "name": "stdout",
     "output_type": "stream",
     "text": [
      "8.333333333333334\n"
     ]
    }
   ],
   "source": [
    "print(g)"
   ]
  },
  {
   "cell_type": "code",
   "execution_count": 36,
   "id": "8b183a89",
   "metadata": {},
   "outputs": [
    {
     "name": "stdout",
     "output_type": "stream",
     "text": [
      "240991986510288411774075003471250893643100495450989797183029997715880385286026103747568159769541507890413437232881251245786062698499310658150630375520148676422261432642980111817620148509750699179521061129088262039468860187717113426538722624125242817558170728987527810212206878714628778492966112675136318016269789099936564394678967195831125061835763510325843423304911856806746609828417948762080413871444761753082275390625000000000000000000000000000000000000000000000000000000000000000000000000000000000000000000000000000000000000000000000000000000000000000000000000000000000000000000000000000000000000000000000000000000000000000000000000000000000000000000000000000000000000000000000000000000000000000000000000000000000000000000000000000000000000000000000000000000000000000000000000000000000000000000000000000000000000000000000000000000000000000000000000000000000000000000000000000000000000000000000000000000000000000000000000000000000000000000000000000000000000000000000000000000000000000000000000000000000000000000000000\n"
     ]
    }
   ],
   "source": [
    "print(h)"
   ]
  },
  {
   "cell_type": "code",
   "execution_count": 37,
   "id": "a950635f",
   "metadata": {},
   "outputs": [
    {
     "name": "stdout",
     "output_type": "stream",
     "text": [
      "8\n"
     ]
    }
   ],
   "source": [
    "print(k)"
   ]
  },
  {
   "cell_type": "code",
   "execution_count": 38,
   "id": "ab7e24cd",
   "metadata": {},
   "outputs": [
    {
     "data": {
      "text/plain": [
       "True"
      ]
     },
     "execution_count": 38,
     "metadata": {},
     "output_type": "execute_result"
    }
   ],
   "source": [
    "x=235\n",
    "y=105\n",
    "x>y"
   ]
  },
  {
   "cell_type": "code",
   "execution_count": 39,
   "id": "3525373d",
   "metadata": {},
   "outputs": [
    {
     "data": {
      "text/plain": [
       "False"
      ]
     },
     "execution_count": 39,
     "metadata": {},
     "output_type": "execute_result"
    }
   ],
   "source": [
    "x=235\n",
    "y=105\n",
    "x<y"
   ]
  },
  {
   "cell_type": "code",
   "execution_count": 40,
   "id": "466375c9",
   "metadata": {},
   "outputs": [
    {
     "data": {
      "text/plain": [
       "True"
      ]
     },
     "execution_count": 40,
     "metadata": {},
     "output_type": "execute_result"
    }
   ],
   "source": [
    "x=235\n",
    "y=105\n",
    "x!=y"
   ]
  },
  {
   "cell_type": "code",
   "execution_count": 41,
   "id": "8e5cdde7",
   "metadata": {},
   "outputs": [
    {
     "data": {
      "text/plain": [
       "True"
      ]
     },
     "execution_count": 41,
     "metadata": {},
     "output_type": "execute_result"
    }
   ],
   "source": [
    "x=235\n",
    "y=105\n",
    "x>=y"
   ]
  },
  {
   "cell_type": "code",
   "execution_count": 42,
   "id": "70e1ee6a",
   "metadata": {},
   "outputs": [
    {
     "data": {
      "text/plain": [
       "False"
      ]
     },
     "execution_count": 42,
     "metadata": {},
     "output_type": "execute_result"
    }
   ],
   "source": [
    "x=235\n",
    "y=105\n",
    "x<=y"
   ]
  },
  {
   "cell_type": "code",
   "execution_count": 43,
   "id": "7b782a3f",
   "metadata": {},
   "outputs": [
    {
     "data": {
      "text/plain": [
       "6500"
      ]
     },
     "execution_count": 43,
     "metadata": {},
     "output_type": "execute_result"
    }
   ],
   "source": [
    "a=4500\n",
    "a+=2000\n",
    "a"
   ]
  },
  {
   "cell_type": "code",
   "execution_count": 58,
   "id": "b16f5db3",
   "metadata": {},
   "outputs": [
    {
     "data": {
      "text/plain": [
       "2000"
      ]
     },
     "execution_count": 58,
     "metadata": {},
     "output_type": "execute_result"
    }
   ],
   "source": [
    "a=4500\n",
    "a-=2500\n",
    "a"
   ]
  },
  {
   "cell_type": "code",
   "execution_count": 59,
   "id": "2448ef1e",
   "metadata": {},
   "outputs": [
    {
     "data": {
      "text/plain": [
       "11250000"
      ]
     },
     "execution_count": 59,
     "metadata": {},
     "output_type": "execute_result"
    }
   ],
   "source": [
    "a=4500\n",
    "a*=2500\n",
    "a"
   ]
  },
  {
   "cell_type": "code",
   "execution_count": 60,
   "id": "12f6df3e",
   "metadata": {},
   "outputs": [
    {
     "data": {
      "text/plain": [
       "1.8"
      ]
     },
     "execution_count": 60,
     "metadata": {},
     "output_type": "execute_result"
    }
   ],
   "source": [
    "a=4500\n",
    "a/=2500\n",
    "a"
   ]
  },
  {
   "cell_type": "code",
   "execution_count": 61,
   "id": "9e5f623b",
   "metadata": {},
   "outputs": [
    {
     "data": {
      "text/plain": [
       "False"
      ]
     },
     "execution_count": 61,
     "metadata": {},
     "output_type": "execute_result"
    }
   ],
   "source": [
    "a=True\n",
    "b=False\n",
    "a and b"
   ]
  },
  {
   "cell_type": "code",
   "execution_count": 62,
   "id": "e17666d9",
   "metadata": {},
   "outputs": [
    {
     "data": {
      "text/plain": [
       "True"
      ]
     },
     "execution_count": 62,
     "metadata": {},
     "output_type": "execute_result"
    }
   ],
   "source": [
    "a=True\n",
    "b=False\n",
    "a or b"
   ]
  },
  {
   "cell_type": "code",
   "execution_count": 63,
   "id": "c01164ee",
   "metadata": {},
   "outputs": [
    {
     "data": {
      "text/plain": [
       "False"
      ]
     },
     "execution_count": 63,
     "metadata": {},
     "output_type": "execute_result"
    }
   ],
   "source": [
    "a=True\n",
    "b=False\n",
    "a and b"
   ]
  },
  {
   "cell_type": "code",
   "execution_count": 64,
   "id": "9e4dc8df",
   "metadata": {},
   "outputs": [
    {
     "data": {
      "text/plain": [
       "True"
      ]
     },
     "execution_count": 64,
     "metadata": {},
     "output_type": "execute_result"
    }
   ],
   "source": [
    "a=True\n",
    "b=False\n",
    "not b"
   ]
  },
  {
   "cell_type": "code",
   "execution_count": 65,
   "id": "9150dccd",
   "metadata": {},
   "outputs": [
    {
     "data": {
      "text/plain": [
       "False"
      ]
     },
     "execution_count": 65,
     "metadata": {},
     "output_type": "execute_result"
    }
   ],
   "source": [
    "a=True\n",
    "b=False\n",
    "not a"
   ]
  },
  {
   "cell_type": "code",
   "execution_count": 66,
   "id": "c0bcaba0",
   "metadata": {},
   "outputs": [
    {
     "data": {
      "text/plain": [
       "True"
      ]
     },
     "execution_count": 66,
     "metadata": {},
     "output_type": "execute_result"
    }
   ],
   "source": [
    "a=True\n",
    "b=False\n",
    "a or a"
   ]
  },
  {
   "cell_type": "code",
   "execution_count": 67,
   "id": "cc1127b2",
   "metadata": {},
   "outputs": [
    {
     "name": "stdout",
     "output_type": "stream",
     "text": [
      "Enter first number:20\n",
      "Enter second number:30\n",
      "Enter third number:250\n",
      "sum of number 2030250\n"
     ]
    }
   ],
   "source": [
    "a=input(\"Enter first number:\")\n",
    "b=input(\"Enter second number:\")\n",
    "c=input(\"Enter third number:\")\n",
    "total=a+b+c\n",
    "print(\"sum of number\",total)"
   ]
  },
  {
   "cell_type": "code",
   "execution_count": 113,
   "id": "e4b0e7cc",
   "metadata": {},
   "outputs": [
    {
     "name": "stdout",
     "output_type": "stream",
     "text": [
      "enter number:20\n",
      "the number is greater:\n"
     ]
    }
   ],
   "source": [
    "n=int(input(\"enter number:\"))\n",
    "if n>=10:\n",
    "    print(\"the number is greater:\")\n",
    "else:\n",
    "     print(\"the number is less:\")\n",
    "\n",
    " \n",
    "    "
   ]
  },
  {
   "cell_type": "code",
   "execution_count": 117,
   "id": "91a35a0a",
   "metadata": {},
   "outputs": [
    {
     "name": "stdout",
     "output_type": "stream",
     "text": [
      "enter number:1\n",
      "enter number:2\n",
      "enter number:3\n",
      "the largest number: 3\n"
     ]
    }
   ],
   "source": [
    "a=int(input(\"enter number:\"))\n",
    "b=int(input(\"enter number:\"))\n",
    "c=int(input(\"enter number:\"))\n",
    "if (a>=b) and (a>=b):\n",
    "    l=a\n",
    "elif (b>=a) and (b>=c):\n",
    "    l=b\n",
    "else:\n",
    "    l=c\n",
    "print(\"the largest number:\",l)"
   ]
  },
  {
   "cell_type": "code",
   "execution_count": 118,
   "id": "5c264204",
   "metadata": {},
   "outputs": [
    {
     "name": "stdout",
     "output_type": "stream",
     "text": [
      "False\n"
     ]
    }
   ],
   "source": [
    "a=20\n",
    "b=30\n",
    "status=a is b\n",
    "print(status)"
   ]
  },
  {
   "cell_type": "code",
   "execution_count": 128,
   "id": "b9a2bf9a",
   "metadata": {},
   "outputs": [],
   "source": [
    "def greeting(name,department):\n",
    "    print(\"welcome:\",name)\n",
    "    print(\"you are part:\"+department)"
   ]
  },
  {
   "cell_type": "code",
   "execution_count": null,
   "id": "bca623fb",
   "metadata": {},
   "outputs": [],
   "source": []
  },
  {
   "cell_type": "code",
   "execution_count": null,
   "id": "5d913c4f",
   "metadata": {},
   "outputs": [],
   "source": []
  },
  {
   "cell_type": "code",
   "execution_count": null,
   "id": "71e18e2d",
   "metadata": {},
   "outputs": [],
   "source": []
  },
  {
   "cell_type": "code",
   "execution_count": null,
   "id": "75cfc37d",
   "metadata": {},
   "outputs": [],
   "source": []
  }
 ],
 "metadata": {
  "kernelspec": {
   "display_name": "Python 3 (ipykernel)",
   "language": "python",
   "name": "python3"
  },
  "language_info": {
   "codemirror_mode": {
    "name": "ipython",
    "version": 3
   },
   "file_extension": ".py",
   "mimetype": "text/x-python",
   "name": "python",
   "nbconvert_exporter": "python",
   "pygments_lexer": "ipython3",
   "version": "3.9.13"
  }
 },
 "nbformat": 4,
 "nbformat_minor": 5
}
